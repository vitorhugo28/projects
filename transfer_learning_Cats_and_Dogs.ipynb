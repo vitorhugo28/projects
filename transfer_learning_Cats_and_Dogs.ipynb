{
  "cells": [
    {
      "cell_type": "markdown",
      "metadata": {
        "id": "view-in-github",
        "colab_type": "text"
      },
      "source": [
        "<a href=\"https://colab.research.google.com/github/vitorhugo28/projects/blob/main/transfer_learning_Cats_and_Dogs.ipynb\" target=\"_parent\"><img src=\"https://colab.research.google.com/assets/colab-badge.svg\" alt=\"Open In Colab\"/></a>"
      ]
    },
    {
      "cell_type": "code",
      "execution_count": null,
      "metadata": {
        "id": "3p-OjhDPYoZm"
      },
      "outputs": [],
      "source": [
        "from IPython import get_ipython\n",
        "from IPython.display import display\n",
        "# %%\n",
        "from IPython import get_ipython\n",
        "from IPython.display import display\n",
        "%matplotlib inline\n",
        "# Configura o matplotlib para exibir gráficos diretamente no notebook.\n",
        "import os # Importa o módulo para interagir com o sistema operacional, como manipular arquivos e diretórios.\n",
        "import random # Importa o módulo para gerar números aleatórios.\n",
        "import numpy as np # Importa a biblioteca NumPy para trabalhar com arrays multidimensionais.\n",
        "import keras # Importa a biblioteca Keras para construir e treinar redes neurais.\n",
        "import matplotlib.pyplot as plt # Importa o módulo pyplot da biblioteca Matplotlib para criar gráficos.\n",
        "from matplotlib.pyplot import imshow # Importa a função imshow para exibir imagens.\n",
        "from keras.preprocessing import image # Importa o módulo de pré-processamento de imagens do Keras.\n",
        "from keras.applications.imagenet_utils import preprocess_input # Importa a função preprocess_input para pré-processar imagens de acordo com o ImageNet.\n",
        "from keras.models import Sequential # Importa a classe Sequential para criar modelos de redes neurais sequenciais.\n",
        "from keras.layers import Dense, Dropout, Flatten, Activation # Importa as camadas Dense (totalmente conectada), Dropout (para evitar overfitting), Flatten (para transformar dados multidimensionais em unidimensionais) e Activation (para aplicar funções de ativação).\n",
        "from keras.layers import Conv2D, MaxPooling2D # Importa as camadas Conv2D (convolução 2D) e MaxPooling2D (pooling máximo 2D).\n",
        "from keras.models import Model # Importa a classe Model para criar modelos de redes neurais mais complexos."
      ]
    },
    {
      "cell_type": "code",
      "execution_count": null,
      "metadata": {
        "colab": {
          "background_save": true,
          "base_uri": "https://localhost:8080/"
        },
        "id": "XklKIrnaZb3f",
        "outputId": "e99ccf2d-245c-4b26-91f5-110a8f7ca312"
      },
      "outputs": [
        {
          "name": "stdout",
          "output_type": "stream",
          "text": [
            "############################################################################################# 100.0%\n",
            "Archive:  kagglecatsanddogs_5340.zip\n",
            "replace PetImages/Cat/0.jpg? [y]es, [n]o, [A]ll, [N]one, [r]ename: "
          ]
        }
      ],
      "source": [
        "!curl -L -o kagglecatsanddogs_5340.zip --progress-bar https://download.microsoft.com/download/3/E/1/3E1C3F21-ECDB-4869-8368-6DEBA77B919F/kagglecatsanddogs_5340.zip # Baixa o arquivo zip do dataset Kaggle Cats and Dogs usando o comando curl.\n",
        "!unzip kagglecatsanddogs_5340.zip # Descompacta o arquivo zip baixado.\n",
        "!rm kagglecatsanddogs_5340.zip # Remove o arquivo zip após a descompactação."
      ]
    },
    {
      "cell_type": "code",
      "execution_count": null,
      "metadata": {
        "id": "8OGRcLNwYoZu"
      },
      "outputs": [],
      "source": [
        "root = 'PetImages'  # Define a variável root como o caminho para o diretório raiz do dataset.\n",
        "train_split, val_split = 0.7, 0.15 # Define as proporções para divisão do dataset em treino e validação.\n",
        "\n",
        "categories = ['Cat', 'Dog']  # Define as categorias do novo dataset (gato e cachorro).\n",
        "num_classes = len(categories) # Calcula o número de classes (2).\n",
        "\n",
        "data = [] # Inicializa uma lista vazia para armazenar os dados das imagens.\n",
        "for c, category in enumerate(categories): # Itera pelas categorias, enumerando-as.\n",
        "    images = [os.path.join(root, category, f) for f in os.listdir(os.path.join(root, category))\n",
        "              if os.path.splitext(f)[1].lower() in ['.jpg','.png','.jpeg']] # Cria uma lista de caminhos para todas as imagens na categoria atual.\n",
        "    for img_path in images: # Itera pelos caminhos das imagens.\n",
        "        try:  # Adicione um try-except para lidar com imagens corrompidas\n",
        "            img, x = get_image(img_path) # Chama a função get_image para carregar a imagem e obter seu vetor de entrada.\n",
        "            data.append({'x':np.array(x[0]), 'y':c}) # Adiciona um dicionário com o vetor de entrada e a categoria correspondente à lista de dados.\n",
        "        except:\n",
        "            pass"
      ]
    },
    {
      "cell_type": "code",
      "execution_count": null,
      "metadata": {
        "id": "A1T1Joq7YoZz"
      },
      "outputs": [],
      "source": [
        "# Função auxiliar para carregar a imagem e retornar a imagem e o vetor de entrada.\n",
        "def get_image(path):\n",
        "    img = image.load_img(path, target_size=(224, 224)) # Carrega a imagem do caminho especificado, redimensionando-a para 224x224 pixels.\n",
        "    x = image.img_to_array(img) # Converte a imagem em um array NumPy.\n",
        "    x = np.expand_dims(x, axis=0) # Adiciona uma dimensão extra ao array para representar o batch (lote) de imagens.\n",
        "    x = preprocess_input(x) # Pré-processa a imagem de acordo com o ImageNet.\n",
        "    return img, x # Retorna a imagem e o vetor de entrada pré-processado."
      ]
    },
    {
      "cell_type": "code",
      "execution_count": null,
      "metadata": {
        "id": "5nAUr-ooYoZ4"
      },
      "outputs": [],
      "source": [
        "data = [] # Inicializa uma lista vazia para armazenar os dados das imagens.\n",
        "for c, category in enumerate(categories): # Itera pelas categorias, enumerando-as.\n",
        "    images = [os.path.join(dp, f) for dp, dn, filenames\n",
        "              in os.walk(category) for f in filenames\n",
        "              if os.path.splitext(f)[1].lower() in ['.jpg','.png','.jpeg']] # Cria uma lista de caminhos para todas as imagens na categoria atual, incluindo subdiretórios.\n",
        "    for img_path in images: # Itera pelos caminhos das imagens.\n",
        "        img, x = get_image(img_path) # Chama a função get_image para carregar a imagem e obter seu vetor de entrada.\n",
        "        data.append({'x':np.array(x[0]), 'y':c}) # Adiciona um dicionário com o vetor de entrada e a categoria correspondente à lista de dados.\n",
        "\n",
        "model = Sequential()  # Define o modelo como uma rede neural sequencial.\n",
        "\n",
        "model.add(Dense(num_classes))  # Adiciona uma camada densa (totalmente conectada) com o número de neurônios igual ao número de classes (2).\n",
        "model.add(Activation('softmax')) # Adiciona uma camada de ativação softmax para obter probabilidades para cada classe.\n"
      ]
    },
    {
      "cell_type": "code",
      "execution_count": null,
      "metadata": {
        "id": "5vGeJK55YoZ8"
      },
      "outputs": [],
      "source": [
        "random.shuffle(data) # Embaralha aleatoriamente os dados das imagens."
      ]
    },
    {
      "cell_type": "code",
      "execution_count": null,
      "metadata": {
        "id": "PT9Cuq2rYoaB"
      },
      "outputs": [],
      "source": [
        "idx_val = int(train_split * len(data)) # Calcula o índice para dividir o dataset em treino e validação.\n",
        "idx_test = int((train_split + val_split) * len(data)) # Calcula o índice para dividir o dataset em validação e teste.\n",
        "train = data[:idx_val] # Cria a lista de dados de treino.\n",
        "val = data[idx_val:idx_test] # Cria a lista de dados de validação.\n",
        "test = data[idx_test:] # Cria a lista de dados de teste."
      ]
    },
    {
      "cell_type": "code",
      "execution_count": null,
      "metadata": {
        "id": "vQOGN9kOYoaH"
      },
      "outputs": [],
      "source": [
        "x_train, y_train = np.array([t[\"x\"] for t in train]), [t[\"y\"] for t in train] # Separa os vetores de entrada (x_train) e as categorias (y_train) dos dados de treino.\n",
        "x_val, y_val = np.array([t[\"x\"] for t in val]), [t[\"y\"] for t in val] # Separa os vetores de entrada (x_val) e as categorias (y_val) dos dados de validação.\n",
        "x_test, y_test = np.array([t[\"x\"] for t in test]), [t[\"y\"] for t in test] # Separa os vetores de entrada (x_test) e as categorias (y_test) dos dados de teste.\n",
        "print(y_test) # Imprime as categorias dos dados de teste."
      ]
    },
    {
      "cell_type": "code",
      "execution_count": null,
      "metadata": {
        "collapsed": true,
        "id": "qnXaiAgJYoaQ"
      },
      "outputs": [],
      "source": [
        "# Normaliza os dados dividindo os valores dos pixels por 255.\n",
        "x_train = x_train.astype('float32') / 255.\n",
        "x_val = x_val.astype('float32') / 255.\n",
        "x_test = x_test.astype('float32') / 255.\n",
        "\n",
        "# Converte as categorias em vetores one-hot (codificação one-hot).\n",
        "y_train = keras.utils.to_categorical(y_train, num_classes)\n",
        "y_val = keras.utils.to_categorical(y_val, num_classes)\n",
        "y_test = keras.utils.to_categorical(y_test, num_classes)\n",
        "print(y_test.shape) # Imprime o formato dos vetores one-hot dos dados de teste."
      ]
    },
    {
      "cell_type": "code",
      "execution_count": null,
      "metadata": {
        "id": "AcKjxgtyYoaT"
      },
      "outputs": [],
      "source": [
        "# Imprime um resumo dos dados carregados.\n",
        "print(\"finished loading %d images from %d categories\"%(len(data), num_classes))\n",
        "print(\"train / validation / test split: %d, %d, %d\"%(len(x_train), len(x_val), len(x_test)))\n",
        "print(\"training data shape: \", x_train.shape)\n",
        "print(\"training labels shape: \", y_train.shape)\n"
      ]
    },
    {
      "cell_type": "code",
      "execution_count": null,
      "metadata": {
        "id": "y84SmM2CYoaZ"
      },
      "outputs": [],
      "source": [
        "images = [os.path.join(dp, f) for dp, dn, filenames in os.walk(root) for f in filenames if os.path.splitext(f)[1].lower() in ['.jpg','.png','.jpeg']] # Cria uma lista de caminhos para todas as imagens no diretório raiz, incluindo subdiretórios.\n",
        "idx = [int(len(images) * random.random()) for i in range(8)] # Seleciona aleatoriamente 8 índices de imagens.\n",
        "imgs = [image.load_img(images[i], target_size=(224, 224)) for i in idx] # Carrega as 8 imagens selecionadas, redimensionando-as para 224x224 pixels.\n",
        "concat_image = np.concatenate([np.asarray(img) for img in imgs], axis=1) # Concatena as imagens horizontalmente.\n",
        "plt.figure(figsize=(16,4)) # Cria uma figura para exibir as imagens.\n",
        "plt.imshow(concat_image) # Exibe as imagens concatenadas."
      ]
    },
    {
      "cell_type": "code",
      "execution_count": null,
      "metadata": {
        "id": "y41GiiYTYoaf"
      },
      "outputs": [],
      "source": [
        "# Constrói a rede neural.\n",
        "model = Sequential() # Define o modelo como uma rede neural sequencial.\n",
        "print(\"Input dimensions: \",x_train.shape[1:]) # Imprime as dimensões de entrada da rede neural.\n",
        "\n",
        "model.add(Conv2D(32, (3, 3), input_shape=x_train.shape[1:])) # Adiciona uma camada de convolução 2D com 32 filtros de tamanho 3x3, usando as dimensões de entrada especificadas.\n",
        "model.add(Activation('relu')) # Adiciona uma camada de ativação ReLU (Unidade Linear Retificada).\n",
        "model.add(MaxPooling2D(pool_size=(2, 2))) # Adiciona uma camada de pooling máximo 2D com tamanho de pool 2x2.\n",
        "\n",
        "model.add(Conv2D(32, (3, 3))) # Adiciona outra camada de convolução 2D com 32 filtros de tamanho 3x3.\n",
        "model.add(Activation('relu')) # Adiciona uma camada de ativação ReLU.\n",
        "model.add(MaxPooling2D(pool_size=(2, 2))) # Adiciona uma camada de pooling máximo 2D.\n",
        "\n",
        "model.add(Dropout(0.25)) # Adiciona uma camada de dropout com taxa de 0.25 para evitar overfitting.\n",
        "\n",
        "model.add(Conv2D(32, (3, 3))) # Adiciona outra camada de convolução 2D.\n",
        "model.add(Activation('relu')) # Adiciona uma camada de ativação ReLU.\n",
        "model.add(MaxPooling2D(pool_size=(2, 2))) # Adiciona uma camada de pooling máximo 2D.\n",
        "\n",
        "model.add(Conv2D(32, (3, 3))) # Adiciona outra camada de convolução 2D.\n",
        "model.add(Activation('relu')) # Adiciona uma camada de ativação ReLU.\n",
        "model.add(MaxPooling2D(pool_size=(2, 2))) # Adiciona uma camada de pooling máximo 2D.\n",
        "\n",
        "model.add(Dropout(0.25)) # Adiciona uma camada de dropout.\n",
        "\n",
        "model.add(Flatten()) # Adiciona uma camada de flatten para transformar os dados multidimensionais em unidimensionais.\n",
        "model.add(Dense(256)) # Adiciona uma camada densa com 256 neurônios.\n",
        "model.add(Activation('relu')) # Adiciona uma camada de ativação ReLU.\n",
        "\n",
        "model.add(Dropout(0.5)) # Adiciona uma camada de dropout com taxa de 0.5.\n",
        "\n",
        "model.add(Dense(num_classes)) # Adiciona uma camada densa com o número de neurônios igual ao número de classes.\n",
        "model.add(Activation('softmax')) # Adiciona uma camada de ativação softmax.\n",
        "\n",
        "model.summary() # Imprime um resumo da arquitetura da rede neural."
      ]
    },
    {
      "cell_type": "code",
      "execution_count": null,
      "metadata": {
        "id": "CIqHecNAYoaj"
      },
      "outputs": [],
      "source": [
        "# Compila o modelo usando a função de perda categorical cross-entropy, o otimizador Adam e a métrica de acurácia.\n",
        "model.compile(loss='categorical_crossentropy',\n",
        "              optimizer='adam',\n",
        "              metrics=['accuracy'])\n",
        "\n",
        "# Treina o modelo usando os dados de treino, com tamanho de batch 128 e 10 épocas, e valida o modelo a cada época usando os dados de validação.\n",
        "history = model.fit(x_train, y_train,\n",
        "                    batch_size=128,\n",
        "                    epochs=10,\n",
        "                    validation_data=(x_val, y_val))\n"
      ]
    },
    {
      "cell_type": "code",
      "execution_count": null,
      "metadata": {
        "id": "_CCPq_ndYoap"
      },
      "outputs": [],
      "source": [
        "# Cria um gráfico com a perda de validação e a acurácia de validação ao longo das épocas.\n",
        "fig = plt.figure(figsize=(16,4))\n",
        "ax = fig.add_subplot(121)\n",
        "ax.plot(history.history[\"val_loss\"])\n",
        "ax.set_title(\"validation loss\")\n",
        "ax.set_xlabel(\"epochs\")\n",
        "\n",
        "ax2 = fig.add_subplot(122)\n",
        "ax2.plot(history.history[\"val_acc\"])\n",
        "ax2.set_title(\"validation accuracy\")\n",
        "ax2.set_xlabel(\"epochs\")\n",
        "ax2.set_ylim(0, 1)\n",
        "\n",
        "plt.show() # Exibe o gráfico."
      ]
    },
    {
      "cell_type": "code",
      "execution_count": null,
      "metadata": {
        "id": "8Itd5LDAYoav"
      },
      "outputs": [],
      "source": [
        "# Avalia o modelo usando os dados de teste e imprime a perda e a acurácia do teste.\n",
        "loss, accuracy = model.evaluate(x_test, y_test, verbose=0)\n",
        "print('Test loss:', loss)"
      ]
    },
    {
      "cell_type": "code",
      "execution_count": null,
      "metadata": {
        "collapsed": true,
        "id": "KpUDAbxiYoay"
      },
      "outputs": [],
      "source": [
        "# Carrega o modelo VGG16 pré-treinado no ImageNet.\n",
        "vgg = keras.applications.VGG16(weights='imagenet', include_top=True)\n",
        "vgg.summary() # Imprime um resumo da arquitetura do modelo VGG16."
      ]
    },
    {
      "cell_type": "code",
      "execution_count": null,
      "metadata": {
        "id": "rFL-fLitYoa3"
      },
      "outputs": [],
      "source": [
        "# make a reference to VGG's input layer\n",
        "inp = vgg.input\n",
        "\n",
        "# make a new softmax layer with num_classes neurons\n",
        "new_classification_layer = Dense(num_classes, activation='softmax')\n",
        "\n",
        "# connect our new layer to the second to last layer in VGG, and make a reference to it\n",
        "out = new_classification_layer(vgg.layers[-2].output)\n",
        "\n",
        "# create a new network between inp and out\n",
        "model_new = Model(inp, out)\n"
      ]
    },
    {
      "cell_type": "code",
      "execution_count": null,
      "metadata": {
        "id": "e_n5A8oGYoa9"
      },
      "outputs": [],
      "source": [
        "# make all layers untrainable by freezing weights (except for last layer)\n",
        "for l, layer in enumerate(model_new.layers[:-1]):\n",
        "    layer.trainable = False\n",
        "\n",
        "# ensure the last layer is trainable/not frozen\n",
        "for l, layer in enumerate(model_new.layers[-1:]):\n",
        "    layer.trainable = True\n",
        "\n",
        "model_new.compile(loss='categorical_crossentropy',\n",
        "              optimizer='adam',\n",
        "              metrics=['accuracy'])\n",
        "\n",
        "model_new.summary()"
      ]
    },
    {
      "cell_type": "code",
      "execution_count": null,
      "metadata": {
        "id": "aDdq71XNYobD"
      },
      "outputs": [],
      "source": [
        "history2 = model_new.fit(x_train, y_train,\n",
        "                         batch_size=128,\n",
        "                         epochs=10,\n",
        "                         validation_data=(x_val, y_val))\n"
      ]
    },
    {
      "cell_type": "code",
      "execution_count": null,
      "metadata": {
        "id": "SHLdHnuuYobJ"
      },
      "outputs": [],
      "source": [
        "fig = plt.figure(figsize=(16,4))\n",
        "ax = fig.add_subplot(121)\n",
        "ax.plot(history.history[\"val_loss\"])\n",
        "ax.plot(history2.history[\"val_loss\"])\n",
        "ax.set_title(\"validation loss\")\n",
        "ax.set_xlabel(\"epochs\")\n",
        "\n",
        "ax2 = fig.add_subplot(122)\n",
        "ax2.plot(history.history[\"val_acc\"])\n",
        "ax2.plot(history2.history[\"val_acc\"])\n",
        "ax2.set_title(\"validation accuracy\")\n",
        "ax2.set_xlabel(\"epochs\")\n",
        "ax2.set_ylim(0, 1)\n",
        "\n",
        "plt.show()"
      ]
    },
    {
      "cell_type": "code",
      "execution_count": null,
      "metadata": {
        "id": "zMxC6Pd1YobN"
      },
      "outputs": [],
      "source": [
        "loss, accuracy = model_new.evaluate(x_test, y_test, verbose=0)\n",
        "\n",
        "print('Test loss:', loss)\n",
        "print('Test accuracy:', accuracy)"
      ]
    },
    {
      "cell_type": "code",
      "execution_count": null,
      "metadata": {
        "id": "YpRcsywEYobT"
      },
      "outputs": [],
      "source": [
        "img, x = get_image('101_ObjectCategories/airplanes/image_0003.jpg')\n",
        "probabilities = model_new.predict([x])\n"
      ]
    }
  ],
  "metadata": {
    "accelerator": "GPU",
    "colab": {
      "provenance": [],
      "include_colab_link": true
    },
    "kernelspec": {
      "display_name": "Python 3",
      "name": "python3"
    }
  },
  "nbformat": 4,
  "nbformat_minor": 0
}